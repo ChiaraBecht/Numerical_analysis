{
 "cells": [
  {
   "cell_type": "markdown",
   "metadata": {},
   "source": [
    "# Data Science 2\n",
    "## Numerical analysis - Numerical differentiation\n",
    "\n",
    "The following material is partly covered in Section 15 - *Floating Point Arithmetic: Issues and Limitations* of the [Python documentation](https://docs.python.org/3/tutorial/floatingpoint.html) and Chapter 5 - *Numerical Differentiation* of the book *Numerical methods in engineering with Python 3* by Jaan Kiusalaas (see BlackBoard)."
   ]
  },
  {
   "cell_type": "markdown",
   "metadata": {},
   "source": [
    "### Introduction\n",
    "\n",
    "Numerical differentiation deals with the following problem: We are given the function $y = f(x)$ and wish to obtain one of its derivatives at the point $x = x_k$. The term \"given\" means that we either have an algorithm for computing the function, or we possess a set of discrete datapoints $(x_i, y_i)$ for $i = 0,1,...,n$. In either case, we have access to a finite number of $(x, y)$ data pairs from which to compute the derivative.\n",
    "\n",
    "Numerical differentiation is not a particularly accurate process. It suffers from a conflict between roundoff errors (caused by limited machine precision) and errors inherent in interpolation. For this reason, a derivative of a function can never be computed with the same precision as the function itself."
   ]
  },
  {
   "cell_type": "markdown",
   "metadata": {},
   "source": [
    "### Intermezzo: Floating Point Arithmetic\n",
    "\n",
    "We assume that you are familiar with [binary](https://en.wikipedia.org/wiki/Binary_number) (and [hexadecimal](https://en.wikipedia.org/wiki/Hexadecimal)) representations of integer numbers (see for example these [short](https://www.youtube.com/watch?v=LpuPe81bc2w), [medium](https://www.youtube.com/watch?v=kTcpd4ef2lU), and [long](https://www.youtube.com/watch?v=vpjhJJQLPq4) video's, or this [series](https://www.youtube.com/watch?v=0qjEkh3P9RE&list=PL726AB973C6E39758) of video's).\n",
    "\n",
    "Floating-point numbers are represented in computer hardware as base 2 (binary) fractions. For example, the *decimal* fraction 0.375 has value $\\frac{3}{10} + \\frac{7}{100} + \\frac{5}{1000}$. In the same way the *binary* fraction 0.011 has value $\\frac{0}{2} + \\frac{1}{4} + \\frac{1}{8}$. These two fractions have identical values ($\\frac{3}{8} = 0.375$), the only real difference being that the first is written in base 10 fractional notation, and the second in base 2.\n",
    "\n",
    "Unfortunately, most decimal fractions cannot be represented exactly as binary fractions. A consequence is that, in general, the decimal floating-point numbers you enter are only approximated by the binary floating-point numbers actually stored in the machine. For example, no matter how many base 2 digits you're willing to use, the decimal value 0.1 cannot be represented exactly as a base 2 fraction. In base 2, $\\frac{1}{10}$ is the infinitely repeating fraction 0.00011001100110011001.. Stop at any finite number of bits, and you get an approximation. This is analogous to how in base 10 some other fractions cannot exactly be represented using a finite number of decimals, like $\\frac{1}{7} = 0.142857142857..$.\n",
    "\n",
    "This may have strange consequences. For example, since 0.1 is not exactly $\\frac{1}{10}$, summing three values of 0.1 may not yield exactly 0.3."
   ]
  },
  {
   "cell_type": "code",
   "execution_count": 2,
   "metadata": {},
   "outputs": [
    {
     "data": {
      "text/plain": [
       "False"
      ]
     },
     "execution_count": 2,
     "metadata": {},
     "output_type": "execute_result"
    }
   ],
   "source": [
    "x = 0.1\n",
    "x + x + x == 0.3"
   ]
  },
  {
   "cell_type": "markdown",
   "metadata": {},
   "source": [
    "On most machines today, floats are approximated using a binary fraction with a sign, an integer numerator, and a denominator that is a power of two. Almost all machines today use [IEEE-754](https://en.wikipedia.org/wiki/IEEE_754-1985) floating point arithmetic. Multiple types of floating point numbers are defined that differ in their precision. A common one is the 64-bit float that maps to IEEE-754 [double precision](https://en.wikipedia.org/wiki/Double-precision_floating-point_format). On input the computer strives to convert 0.1 to the closest fraction it can of the form $\\frac{J}{2^N}$, where $J$ is an integer. In the case of 1/10, the binary fraction is $\\frac{3602879701896397}{2^{55}}$ which is close to but not exactly equal to the true value of 1/10. Python provides tools that may help on those rare occasions when you really do want to know the exact value of a float. The `float.as_integer_ratio()` method expresses the value of a float as a fraction:"
   ]
  },
  {
   "cell_type": "code",
   "execution_count": 3,
   "metadata": {},
   "outputs": [
    {
     "name": "stdout",
     "output_type": "stream",
     "text": [
      "3602879701896397 36028797018963968\n"
     ]
    }
   ],
   "source": [
    "numerator, denominator = x.as_integer_ratio()\n",
    "print(numerator, denominator)"
   ]
  },
  {
   "cell_type": "code",
   "execution_count": 4,
   "metadata": {},
   "outputs": [
    {
     "data": {
      "text/plain": [
       "True"
      ]
     },
     "execution_count": 4,
     "metadata": {},
     "output_type": "execute_result"
    }
   ],
   "source": [
    "numerator / denominator == x"
   ]
  },
  {
   "cell_type": "code",
   "execution_count": 5,
   "metadata": {},
   "outputs": [
    {
     "name": "stdout",
     "output_type": "stream",
     "text": [
      "3602879701896397 36028797018963968\n"
     ]
    },
    {
     "data": {
      "text/plain": [
       "True"
      ]
     },
     "execution_count": 5,
     "metadata": {},
     "output_type": "execute_result"
    }
   ],
   "source": [
    "#x = 1/7\n",
    "num, den = x.as_integer_ratio()\n",
    "print(num, den)\n",
    "num / den == x"
   ]
  },
  {
   "cell_type": "markdown",
   "metadata": {},
   "source": [
    "The `hex()` method expresses a float in hexadecimal (base 16), again giving the exact value stored by your computer."
   ]
  },
  {
   "cell_type": "code",
   "execution_count": 6,
   "metadata": {},
   "outputs": [
    {
     "name": "stdout",
     "output_type": "stream",
     "text": [
      "0x1.999999999999ap-4\n"
     ]
    }
   ],
   "source": [
    "print(x.hex())"
   ]
  },
  {
   "cell_type": "markdown",
   "metadata": {},
   "source": [
    "When converted from hexadecimal to binary, we would obtain `'0b1.1001100110011001100110011001100110011001100110011010p-4'`, which corresponds exactly with the (rounded) binary expansion given earlier. The `p` indicates binary scientific notation (similar to te `e` in base 10, like in `0.1 == 1e-1`).\n",
    "\n",
    "We can access the internal binary representation directly using the following bit of code magic."
   ]
  },
  {
   "cell_type": "code",
   "execution_count": 7,
   "metadata": {},
   "outputs": [
    {
     "name": "stdout",
     "output_type": "stream",
     "text": [
      "0011111110111001100110011001100110011001100110011001100110011010\n"
     ]
    }
   ],
   "source": [
    "import struct\n",
    "bits = ''.join(bin(byte).replace('0b', '').rjust(8, '0') for byte in struct.pack('!d', x))\n",
    "print(bits)"
   ]
  },
  {
   "cell_type": "markdown",
   "metadata": {},
   "source": [
    "A double-precision floating point value is encoded in 8 bytes. The 64 bits of this bit-representation can be dissected into three parts:\n",
    "\n",
    "* 1 sign bit: `0` (for positive numbers, or `1` for negative numbers)\n",
    "\n",
    "* 11 exponent bits: `01111111011` (for a biased exponent of 1019)\n",
    "\n",
    "* 52 mantissa bits: `1001100110011001100110011001100110011001100110011010`\n",
    "\n",
    "This generally translates into a value\n",
    "\n",
    "$$\n",
    "(-1)^\\text{sign} \\cdot (1.\\text{mantissa})_\\text{b} \\times 2^{\\text{exponent}-1023}\n",
    "$$\n",
    "\n",
    "Note that in binary, the first digit in scientific notation must always be a 1, so we do not need to encode that explicitly and simply prepend it before the decimal point before the mantissa. In the given case of 0.1, this becomes $(-1)^0 \\cdot (1.1001100110011001100110011001100110011001100110011010)_b \\times 2^{-4}$ which approximately equals 0.1.\n",
    "\n",
    "**Exercise 1**\n",
    "\n",
    "Determine the bit-representations of the following numbers and verify that you understand how these relate to the value of the number itself.\n",
    "\n",
    "* `1.0`\n",
    "* `1.5`\n",
    "* `2.0`\n",
    "* `-2.0`\n",
    "* `-1.3333333333333333`\n",
    "* `3.1415926535897932`\n",
    "* `1.0000000000000002`\n",
    "* `1.0000000000000001`\n",
    "\n",
    "Also try the below \"special\" numbers.\n",
    "\n",
    "* `0.0`\n",
    "* `-0.0`\n",
    "* `float('inf')`\n",
    "* `float('-inf')`\n",
    "* `float('nan')`"
   ]
  },
  {
   "cell_type": "code",
   "execution_count": 8,
   "metadata": {},
   "outputs": [
    {
     "name": "stdout",
     "output_type": "stream",
     "text": [
      "3 2\n",
      "True\n",
      "0x1.8000000000000p+0\n",
      "0011111111111000000000000000000000000000000000000000000000000000\n"
     ]
    }
   ],
   "source": [
    "x = 1.5\n",
    "num, den = x.as_integer_ratio()\n",
    "print(num, den)\n",
    "print(num / den == x)\n",
    "print(x.hex())\n",
    "bits = ''.join(bin(byte).replace('0b', '').rjust(8, '0') for byte in struct.pack('!d', x))\n",
    "print(bits)"
   ]
  },
  {
   "cell_type": "code",
   "execution_count": 9,
   "metadata": {},
   "outputs": [
    {
     "name": "stdout",
     "output_type": "stream",
     "text": [
      "[1]\n",
      "[1.00000000e+00 5.00000000e-01 2.50000000e-01 1.25000000e-01\n",
      " 6.25000000e-02 3.12500000e-02 1.56250000e-02 7.81250000e-03\n",
      " 3.90625000e-03 1.95312500e-03 9.76562500e-04 4.88281250e-04\n",
      " 2.44140625e-04 1.22070312e-04 6.10351562e-05 3.05175781e-05\n",
      " 1.52587891e-05 7.62939453e-06 3.81469727e-06 1.90734863e-06\n",
      " 9.53674316e-07 4.76837158e-07 2.38418579e-07 1.19209290e-07]\n",
      "[0 0 0 0 0 0 0 0 0 0 0 0 0 0 0 0 0 0 0 0 0 0 0 0]\n",
      "[1 0 0 0 0 0 0 0 0 0 0 0 0 0 0 0 0 0 0 0 0 0 0 0] 1.0\n",
      "[1 0 0 0 0 0 0 0 0 0 0 0 0 0 0 0 0 0 0 0 0 0 0 0] 1.0\n",
      "[1 0 1 0 0 0 0 0 0 0 0 0 0 0 0 0 0 0 0 0 0 0 0 0] 1.25\n",
      "[1 0 1 0 0 0 0 0 0 0 0 0 0 0 0 0 0 0 0 0 0 0 0 0] 1.25\n",
      "[1 0 1 0 1 0 0 0 0 0 0 0 0 0 0 0 0 0 0 0 0 0 0 0] 1.3125\n",
      "[1 0 1 0 1 0 0 0 0 0 0 0 0 0 0 0 0 0 0 0 0 0 0 0] 1.3125\n",
      "[1 0 1 0 1 0 1 0 0 0 0 0 0 0 0 0 0 0 0 0 0 0 0 0] 1.328125\n",
      "[1 0 1 0 1 0 1 0 0 0 0 0 0 0 0 0 0 0 0 0 0 0 0 0] 1.328125\n",
      "[1 0 1 0 1 0 1 0 1 0 0 0 0 0 0 0 0 0 0 0 0 0 0 0] 1.33203125\n",
      "[1 0 1 0 1 0 1 0 1 0 0 0 0 0 0 0 0 0 0 0 0 0 0 0] 1.33203125\n",
      "[1 0 1 0 1 0 1 0 1 0 1 0 0 0 0 0 0 0 0 0 0 0 0 0] 1.3330078125\n",
      "[1 0 1 0 1 0 1 0 1 0 1 0 0 0 0 0 0 0 0 0 0 0 0 0] 1.3330078125\n",
      "[1 0 1 0 1 0 1 0 1 0 1 0 1 0 0 0 0 0 0 0 0 0 0 0] 1.333251953125\n",
      "[1 0 1 0 1 0 1 0 1 0 1 0 1 0 0 0 0 0 0 0 0 0 0 0] 1.333251953125\n",
      "[1 0 1 0 1 0 1 0 1 0 1 0 1 0 0 0 0 0 0 0 0 0 0 0] 1.333251953125\n",
      "[1 0 1 0 1 0 1 0 1 0 1 0 1 0 0 1 0 0 0 0 0 0 0 0] 1.333282470703125\n",
      "[1 0 1 0 1 0 1 0 1 0 1 0 1 0 0 1 1 0 0 0 0 0 0 0] 1.3332977294921875\n",
      "[1 0 1 0 1 0 1 0 1 0 1 0 1 0 0 1 1 0 0 0 0 0 0 0] 1.3332977294921875\n",
      "[1 0 1 0 1 0 1 0 1 0 1 0 1 0 0 1 1 0 0 0 0 0 0 0] 1.3332977294921875\n",
      "[1 0 1 0 1 0 1 0 1 0 1 0 1 0 0 1 1 0 0 1 0 0 0 0] 1.3332996368408203\n",
      "[1 0 1 0 1 0 1 0 1 0 1 0 1 0 0 1 1 0 0 1 0 0 0 0] 1.3332996368408203\n",
      "[1 0 1 0 1 0 1 0 1 0 1 0 1 0 0 1 1 0 0 1 0 0 0 0] 1.3332996368408203\n",
      "[1 0 1 0 1 0 1 0 1 0 1 0 1 0 0 1 1 0 0 1 0 0 1 0] 1.3332998752593994\n",
      "[1 0 1 0 1 0 1 0 1 0 1 0 1 0 0 1 1 0 0 1 0 0 1 1] 1.333299994468689\n",
      "0 01111111 [0 1 0 1 0 1 0 1 0 1 0 1 0 0 1 1 0 0 1 0 0 1 1]\n"
     ]
    }
   ],
   "source": [
    "import numpy as np\n",
    "# to verify: https://www.h-schmidt.net/FloatConverter/IEEE754de.html\n",
    "# explanations: https://de.wikipedia.org/wiki/IEEE_754\n",
    "## single pecision\n",
    "bit_len = 32-8-1+1 # mantiassa bit which is discarded is here added for double precis\n",
    "rexpon_bias = 127 # entspricht 2^7 for double precision its 2^11\n",
    "#----------------------------------------\n",
    "\n",
    "#mantisse = 8\n",
    "sign = 0\n",
    "number = 1.3333\n",
    "\n",
    "if number >= 0:\n",
    "    sign = 0\n",
    "else:\n",
    "    sign = 1\n",
    "number = np.abs(number)\n",
    "# vor dem komma\n",
    "pre_deci = number // 1\n",
    "\n",
    "# nach dem komma\n",
    "post_deci = number % 1\n",
    "\n",
    "# special cases\n",
    "if number == np.abs(0.0):\n",
    "    rexpon_bias=0\n",
    "elif number == np.inf:\n",
    "    rexpon_bias = 255 # entpricht 2^8 exponentlänge\n",
    "\n",
    "else:\n",
    "    # calculate the binary repesentation for pre_deci\n",
    "    floor = 0\n",
    "    remainder = []\n",
    "    while True:\n",
    "        floor = pre_deci // 2\n",
    "        remainder.append(int(pre_deci % 2))\n",
    "        pre_deci = floor\n",
    "        if pre_deci == 0:\n",
    "            break\n",
    "\n",
    "    remainder = remainder[::-1]\n",
    "    print(remainder)\n",
    "\n",
    "    dec_p = len(remainder)\n",
    "\n",
    "    bin_list = np.zeros((bit_len), dtype = 'int')\n",
    "    exponents = np.arange(bit_len, 0., -1)\n",
    "    exponents = exponents - bit_len + dec_p -1.\n",
    "    exponents = 2 ** exponents\n",
    "    print(exponents)\n",
    "    print(bin_list)\n",
    "\n",
    "    for i in range(0, bit_len):\n",
    "\n",
    "        bin_list[i] = 1\n",
    "        if (exponents * bin_list).sum() > number:\n",
    "            bin_list[i] = 0\n",
    "        print(bin_list, (exponents * bin_list).sum()) \n",
    "print(sign, np.binary_repr((rexpon_bias + len(remainder) - 1), 8), bin_list[1:])"
   ]
  },
  {
   "cell_type": "code",
   "execution_count": 10,
   "metadata": {},
   "outputs": [
    {
     "name": "stdout",
     "output_type": "stream",
     "text": [
      "[1]\n",
      "[1.00000000e+00 5.00000000e-01 2.50000000e-01 1.25000000e-01\n",
      " 6.25000000e-02 3.12500000e-02 1.56250000e-02 7.81250000e-03\n",
      " 3.90625000e-03 1.95312500e-03 9.76562500e-04 4.88281250e-04\n",
      " 2.44140625e-04 1.22070312e-04 6.10351562e-05 3.05175781e-05\n",
      " 1.52587891e-05 7.62939453e-06 3.81469727e-06 1.90734863e-06\n",
      " 9.53674316e-07 4.76837158e-07 2.38418579e-07 1.19209290e-07\n",
      " 5.96046448e-08 2.98023224e-08 1.49011612e-08 7.45058060e-09\n",
      " 3.72529030e-09 1.86264515e-09 9.31322575e-10 4.65661287e-10\n",
      " 2.32830644e-10 1.16415322e-10 5.82076609e-11 2.91038305e-11\n",
      " 1.45519152e-11 7.27595761e-12 3.63797881e-12 1.81898940e-12\n",
      " 9.09494702e-13 4.54747351e-13 2.27373675e-13 1.13686838e-13\n",
      " 5.68434189e-14 2.84217094e-14 1.42108547e-14 7.10542736e-15\n",
      " 3.55271368e-15 1.77635684e-15 8.88178420e-16 4.44089210e-16\n",
      " 2.22044605e-16]\n",
      "[0 0 0 0 0 0 0 0 0 0 0 0 0 0 0 0 0 0 0 0 0 0 0 0 0 0 0 0 0 0 0 0 0 0 0 0 0\n",
      " 0 0 0 0 0 0 0 0 0 0 0 0 0 0 0 0]\n",
      "[1 0 0 0 0 0 0 0 0 0 0 0 0 0 0 0 0 0 0 0 0 0 0 0 0 0 0 0 0 0 0 0 0 0 0 0 0\n",
      " 0 0 0 0 0 0 0 0 0 0 0 0 0 0 0 0] 1.0\n",
      "[1 0 0 0 0 0 0 0 0 0 0 0 0 0 0 0 0 0 0 0 0 0 0 0 0 0 0 0 0 0 0 0 0 0 0 0 0\n",
      " 0 0 0 0 0 0 0 0 0 0 0 0 0 0 0 0] 1.0\n",
      "[1 0 1 0 0 0 0 0 0 0 0 0 0 0 0 0 0 0 0 0 0 0 0 0 0 0 0 0 0 0 0 0 0 0 0 0 0\n",
      " 0 0 0 0 0 0 0 0 0 0 0 0 0 0 0 0] 1.25\n",
      "[1 0 1 0 0 0 0 0 0 0 0 0 0 0 0 0 0 0 0 0 0 0 0 0 0 0 0 0 0 0 0 0 0 0 0 0 0\n",
      " 0 0 0 0 0 0 0 0 0 0 0 0 0 0 0 0] 1.25\n",
      "[1 0 1 0 1 0 0 0 0 0 0 0 0 0 0 0 0 0 0 0 0 0 0 0 0 0 0 0 0 0 0 0 0 0 0 0 0\n",
      " 0 0 0 0 0 0 0 0 0 0 0 0 0 0 0 0] 1.3125\n",
      "[1 0 1 0 1 0 0 0 0 0 0 0 0 0 0 0 0 0 0 0 0 0 0 0 0 0 0 0 0 0 0 0 0 0 0 0 0\n",
      " 0 0 0 0 0 0 0 0 0 0 0 0 0 0 0 0] 1.3125\n",
      "[1 0 1 0 1 0 1 0 0 0 0 0 0 0 0 0 0 0 0 0 0 0 0 0 0 0 0 0 0 0 0 0 0 0 0 0 0\n",
      " 0 0 0 0 0 0 0 0 0 0 0 0 0 0 0 0] 1.328125\n",
      "[1 0 1 0 1 0 1 0 0 0 0 0 0 0 0 0 0 0 0 0 0 0 0 0 0 0 0 0 0 0 0 0 0 0 0 0 0\n",
      " 0 0 0 0 0 0 0 0 0 0 0 0 0 0 0 0] 1.328125\n",
      "[1 0 1 0 1 0 1 0 1 0 0 0 0 0 0 0 0 0 0 0 0 0 0 0 0 0 0 0 0 0 0 0 0 0 0 0 0\n",
      " 0 0 0 0 0 0 0 0 0 0 0 0 0 0 0 0] 1.33203125\n",
      "[1 0 1 0 1 0 1 0 1 0 0 0 0 0 0 0 0 0 0 0 0 0 0 0 0 0 0 0 0 0 0 0 0 0 0 0 0\n",
      " 0 0 0 0 0 0 0 0 0 0 0 0 0 0 0 0] 1.33203125\n",
      "[1 0 1 0 1 0 1 0 1 0 1 0 0 0 0 0 0 0 0 0 0 0 0 0 0 0 0 0 0 0 0 0 0 0 0 0 0\n",
      " 0 0 0 0 0 0 0 0 0 0 0 0 0 0 0 0] 1.3330078125\n",
      "[1 0 1 0 1 0 1 0 1 0 1 0 0 0 0 0 0 0 0 0 0 0 0 0 0 0 0 0 0 0 0 0 0 0 0 0 0\n",
      " 0 0 0 0 0 0 0 0 0 0 0 0 0 0 0 0] 1.3330078125\n",
      "[1 0 1 0 1 0 1 0 1 0 1 0 1 0 0 0 0 0 0 0 0 0 0 0 0 0 0 0 0 0 0 0 0 0 0 0 0\n",
      " 0 0 0 0 0 0 0 0 0 0 0 0 0 0 0 0] 1.333251953125\n",
      "[1 0 1 0 1 0 1 0 1 0 1 0 1 0 0 0 0 0 0 0 0 0 0 0 0 0 0 0 0 0 0 0 0 0 0 0 0\n",
      " 0 0 0 0 0 0 0 0 0 0 0 0 0 0 0 0] 1.333251953125\n",
      "[1 0 1 0 1 0 1 0 1 0 1 0 1 0 0 0 0 0 0 0 0 0 0 0 0 0 0 0 0 0 0 0 0 0 0 0 0\n",
      " 0 0 0 0 0 0 0 0 0 0 0 0 0 0 0 0] 1.333251953125\n",
      "[1 0 1 0 1 0 1 0 1 0 1 0 1 0 0 1 0 0 0 0 0 0 0 0 0 0 0 0 0 0 0 0 0 0 0 0 0\n",
      " 0 0 0 0 0 0 0 0 0 0 0 0 0 0 0 0] 1.333282470703125\n",
      "[1 0 1 0 1 0 1 0 1 0 1 0 1 0 0 1 1 0 0 0 0 0 0 0 0 0 0 0 0 0 0 0 0 0 0 0 0\n",
      " 0 0 0 0 0 0 0 0 0 0 0 0 0 0 0 0] 1.3332977294921875\n",
      "[1 0 1 0 1 0 1 0 1 0 1 0 1 0 0 1 1 0 0 0 0 0 0 0 0 0 0 0 0 0 0 0 0 0 0 0 0\n",
      " 0 0 0 0 0 0 0 0 0 0 0 0 0 0 0 0] 1.3332977294921875\n",
      "[1 0 1 0 1 0 1 0 1 0 1 0 1 0 0 1 1 0 0 0 0 0 0 0 0 0 0 0 0 0 0 0 0 0 0 0 0\n",
      " 0 0 0 0 0 0 0 0 0 0 0 0 0 0 0 0] 1.3332977294921875\n",
      "[1 0 1 0 1 0 1 0 1 0 1 0 1 0 0 1 1 0 0 1 0 0 0 0 0 0 0 0 0 0 0 0 0 0 0 0 0\n",
      " 0 0 0 0 0 0 0 0 0 0 0 0 0 0 0 0] 1.3332996368408203\n",
      "[1 0 1 0 1 0 1 0 1 0 1 0 1 0 0 1 1 0 0 1 0 0 0 0 0 0 0 0 0 0 0 0 0 0 0 0 0\n",
      " 0 0 0 0 0 0 0 0 0 0 0 0 0 0 0 0] 1.3332996368408203\n",
      "[1 0 1 0 1 0 1 0 1 0 1 0 1 0 0 1 1 0 0 1 0 0 0 0 0 0 0 0 0 0 0 0 0 0 0 0 0\n",
      " 0 0 0 0 0 0 0 0 0 0 0 0 0 0 0 0] 1.3332996368408203\n",
      "[1 0 1 0 1 0 1 0 1 0 1 0 1 0 0 1 1 0 0 1 0 0 1 0 0 0 0 0 0 0 0 0 0 0 0 0 0\n",
      " 0 0 0 0 0 0 0 0 0 0 0 0 0 0 0 0] 1.3332998752593994\n",
      "[1 0 1 0 1 0 1 0 1 0 1 0 1 0 0 1 1 0 0 1 0 0 1 1 0 0 0 0 0 0 0 0 0 0 0 0 0\n",
      " 0 0 0 0 0 0 0 0 0 0 0 0 0 0 0 0] 1.333299994468689\n",
      "[1 0 1 0 1 0 1 0 1 0 1 0 1 0 0 1 1 0 0 1 0 0 1 1 0 0 0 0 0 0 0 0 0 0 0 0 0\n",
      " 0 0 0 0 0 0 0 0 0 0 0 0 0 0 0 0] 1.333299994468689\n",
      "[1 0 1 0 1 0 1 0 1 0 1 0 1 0 0 1 1 0 0 1 0 0 1 1 0 0 0 0 0 0 0 0 0 0 0 0 0\n",
      " 0 0 0 0 0 0 0 0 0 0 0 0 0 0 0 0] 1.333299994468689\n",
      "[1 0 1 0 1 0 1 0 1 0 1 0 1 0 0 1 1 0 0 1 0 0 1 1 0 0 0 0 0 0 0 0 0 0 0 0 0\n",
      " 0 0 0 0 0 0 0 0 0 0 0 0 0 0 0 0] 1.333299994468689\n",
      "[1 0 1 0 1 0 1 0 1 0 1 0 1 0 0 1 1 0 0 1 0 0 1 1 0 0 0 0 0 0 0 0 0 0 0 0 0\n",
      " 0 0 0 0 0 0 0 0 0 0 0 0 0 0 0 0] 1.333299994468689\n",
      "[1 0 1 0 1 0 1 0 1 0 1 0 1 0 0 1 1 0 0 1 0 0 1 1 0 0 0 0 1 0 0 0 0 0 0 0 0\n",
      " 0 0 0 0 0 0 0 0 0 0 0 0 0 0 0 0] 1.3332999981939793\n",
      "[1 0 1 0 1 0 1 0 1 0 1 0 1 0 0 1 1 0 0 1 0 0 1 1 0 0 0 0 1 0 0 0 0 0 0 0 0\n",
      " 0 0 0 0 0 0 0 0 0 0 0 0 0 0 0 0] 1.3332999981939793\n",
      "[1 0 1 0 1 0 1 0 1 0 1 0 1 0 0 1 1 0 0 1 0 0 1 1 0 0 0 0 1 0 1 0 0 0 0 0 0\n",
      " 0 0 0 0 0 0 0 0 0 0 0 0 0 0 0 0] 1.3332999991253018\n",
      "[1 0 1 0 1 0 1 0 1 0 1 0 1 0 0 1 1 0 0 1 0 0 1 1 0 0 0 0 1 0 1 1 0 0 0 0 0\n",
      " 0 0 0 0 0 0 0 0 0 0 0 0 0 0 0 0] 1.3332999995909631\n",
      "[1 0 1 0 1 0 1 0 1 0 1 0 1 0 0 1 1 0 0 1 0 0 1 1 0 0 0 0 1 0 1 1 1 0 0 0 0\n",
      " 0 0 0 0 0 0 0 0 0 0 0 0 0 0 0 0] 1.3332999998237938\n",
      "[1 0 1 0 1 0 1 0 1 0 1 0 1 0 0 1 1 0 0 1 0 0 1 1 0 0 0 0 1 0 1 1 1 1 0 0 0\n",
      " 0 0 0 0 0 0 0 0 0 0 0 0 0 0 0 0] 1.333299999940209\n",
      "[1 0 1 0 1 0 1 0 1 0 1 0 1 0 0 1 1 0 0 1 0 0 1 1 0 0 0 0 1 0 1 1 1 1 1 0 0\n",
      " 0 0 0 0 0 0 0 0 0 0 0 0 0 0 0 0] 1.3332999999984168\n",
      "[1 0 1 0 1 0 1 0 1 0 1 0 1 0 0 1 1 0 0 1 0 0 1 1 0 0 0 0 1 0 1 1 1 1 1 0 0\n",
      " 0 0 0 0 0 0 0 0 0 0 0 0 0 0 0 0] 1.3332999999984168\n",
      "[1 0 1 0 1 0 1 0 1 0 1 0 1 0 0 1 1 0 0 1 0 0 1 1 0 0 0 0 1 0 1 1 1 1 1 0 0\n",
      " 0 0 0 0 0 0 0 0 0 0 0 0 0 0 0 0] 1.3332999999984168\n",
      "[1 0 1 0 1 0 1 0 1 0 1 0 1 0 0 1 1 0 0 1 0 0 1 1 0 0 0 0 1 0 1 1 1 1 1 0 0\n",
      " 0 0 0 0 0 0 0 0 0 0 0 0 0 0 0 0] 1.3332999999984168\n",
      "[1 0 1 0 1 0 1 0 1 0 1 0 1 0 0 1 1 0 0 1 0 0 1 1 0 0 0 0 1 0 1 1 1 1 1 0 0\n",
      " 0 0 0 0 0 0 0 0 0 0 0 0 0 0 0 0] 1.3332999999984168\n",
      "[1 0 1 0 1 0 1 0 1 0 1 0 1 0 0 1 1 0 0 1 0 0 1 1 0 0 0 0 1 0 1 1 1 1 1 0 0\n",
      " 0 0 0 0 0 0 0 0 0 0 0 0 0 0 0 0] 1.3332999999984168\n",
      "[1 0 1 0 1 0 1 0 1 0 1 0 1 0 0 1 1 0 0 1 0 0 1 1 0 0 0 0 1 0 1 1 1 1 1 0 0\n",
      " 0 0 0 1 0 0 0 0 0 0 0 0 0 0 0 0] 1.3332999999993262\n",
      "[1 0 1 0 1 0 1 0 1 0 1 0 1 0 0 1 1 0 0 1 0 0 1 1 0 0 0 0 1 0 1 1 1 1 1 0 0\n",
      " 0 0 0 1 1 0 0 0 0 0 0 0 0 0 0 0] 1.333299999999781\n",
      "[1 0 1 0 1 0 1 0 1 0 1 0 1 0 0 1 1 0 0 1 0 0 1 1 0 0 0 0 1 0 1 1 1 1 1 0 0\n",
      " 0 0 0 1 1 0 0 0 0 0 0 0 0 0 0 0] 1.333299999999781\n",
      "[1 0 1 0 1 0 1 0 1 0 1 0 1 0 0 1 1 0 0 1 0 0 1 1 0 0 0 0 1 0 1 1 1 1 1 0 0\n",
      " 0 0 0 1 1 0 1 0 0 0 0 0 0 0 0 0] 1.3332999999998947\n",
      "[1 0 1 0 1 0 1 0 1 0 1 0 1 0 0 1 1 0 0 1 0 0 1 1 0 0 0 0 1 0 1 1 1 1 1 0 0\n",
      " 0 0 0 1 1 0 1 1 0 0 0 0 0 0 0 0] 1.3332999999999515\n",
      "[1 0 1 0 1 0 1 0 1 0 1 0 1 0 0 1 1 0 0 1 0 0 1 1 0 0 0 0 1 0 1 1 1 1 1 0 0\n",
      " 0 0 0 1 1 0 1 1 1 0 0 0 0 0 0 0] 1.33329999999998\n",
      "[1 0 1 0 1 0 1 0 1 0 1 0 1 0 0 1 1 0 0 1 0 0 1 1 0 0 0 0 1 0 1 1 1 1 1 0 0\n",
      " 0 0 0 1 1 0 1 1 1 1 0 0 0 0 0 0] 1.3332999999999942\n",
      "[1 0 1 0 1 0 1 0 1 0 1 0 1 0 0 1 1 0 0 1 0 0 1 1 0 0 0 0 1 0 1 1 1 1 1 0 0\n",
      " 0 0 0 1 1 0 1 1 1 1 0 0 0 0 0 0] 1.3332999999999942\n",
      "[1 0 1 0 1 0 1 0 1 0 1 0 1 0 0 1 1 0 0 1 0 0 1 1 0 0 0 0 1 0 1 1 1 1 1 0 0\n",
      " 0 0 0 1 1 0 1 1 1 1 0 1 0 0 0 0] 1.3332999999999977\n",
      "[1 0 1 0 1 0 1 0 1 0 1 0 1 0 0 1 1 0 0 1 0 0 1 1 0 0 0 0 1 0 1 1 1 1 1 0 0\n",
      " 0 0 0 1 1 0 1 1 1 1 0 1 1 0 0 0] 1.3332999999999995\n",
      "[1 0 1 0 1 0 1 0 1 0 1 0 1 0 0 1 1 0 0 1 0 0 1 1 0 0 0 0 1 0 1 1 1 1 1 0 0\n",
      " 0 0 0 1 1 0 1 1 1 1 0 1 1 0 0 0] 1.3332999999999995\n",
      "[1 0 1 0 1 0 1 0 1 0 1 0 1 0 0 1 1 0 0 1 0 0 1 1 0 0 0 0 1 0 1 1 1 1 1 0 0\n",
      " 0 0 0 1 1 0 1 1 1 1 0 1 1 0 1 0] 1.3333\n",
      "[1 0 1 0 1 0 1 0 1 0 1 0 1 0 0 1 1 0 0 1 0 0 1 1 0 0 0 0 1 0 1 1 1 1 1 0 0\n",
      " 0 0 0 1 1 0 1 1 1 1 0 1 1 0 1 0] 1.3333\n",
      "0 01111111111 [0 1 0 1 0 1 0 1 0 1 0 1 0 0 1 1 0 0 1 0 0 1 1 0 0 0 0 1 0 1 1 1 1 1 0 0 0\n",
      " 0 0 1 1 0 1 1 1 1 0 1 1 0 1 0]\n"
     ]
    }
   ],
   "source": [
    "# to verify: https://www.h-schmidt.net/FloatConverter/IEEE754de.html\n",
    "# explanations: https://de.wikipedia.org/wiki/IEEE_754\n",
    "## single pecision\n",
    "bit_len = 64-11-1+1 # mantiassa bit which is discarded is here added for double precis\n",
    "rexpon_bias = 1023 # double precision its 2^10 -1 \n",
    "#----------------------------------------\n",
    "\n",
    "#mantisse = 8\n",
    "sign = 0\n",
    "number = 1.3333\n",
    "\n",
    "if number >= 0:\n",
    "    sign = 0\n",
    "else:\n",
    "    sign = 1\n",
    "number = np.abs(number)\n",
    "# vor dem komma\n",
    "pre_deci = number // 1\n",
    "\n",
    "# nach dem komma\n",
    "post_deci = number % 1\n",
    "\n",
    "# special cases\n",
    "if number == np.abs(0.0):\n",
    "    rexpon_bias=0\n",
    "elif number == np.inf:\n",
    "    rexpon_bias = 1023 # entpricht 2^8 exponentlänge\n",
    "\n",
    "else:\n",
    "    # calculate the binary repesentation for pre_deci\n",
    "    floor = 0\n",
    "    remainder = []\n",
    "    while True:\n",
    "        floor = pre_deci // 2\n",
    "        remainder.append(int(pre_deci % 2))\n",
    "        pre_deci = floor\n",
    "        if pre_deci == 0:\n",
    "            break\n",
    "\n",
    "    remainder = remainder[::-1]\n",
    "    print(remainder)\n",
    "\n",
    "    dec_p = len(remainder)\n",
    "\n",
    "    bin_list = np.zeros((bit_len), dtype = 'int')\n",
    "    exponents = np.arange(bit_len, 0., -1)\n",
    "    exponents = exponents - bit_len + dec_p -1.\n",
    "    exponents = 2 ** exponents\n",
    "    print(exponents)\n",
    "    print(bin_list)\n",
    "\n",
    "    for i in range(0, bit_len):\n",
    "\n",
    "        bin_list[i] = 1\n",
    "        if (exponents * bin_list).sum() > number:\n",
    "            bin_list[i] = 0\n",
    "        print(bin_list, (exponents * bin_list).sum()) \n",
    "print(sign, np.binary_repr((rexpon_bias + len(remainder) - 1), 11), bin_list[1:])"
   ]
  },
  {
   "cell_type": "markdown",
   "metadata": {},
   "source": [
    "Importantly, the number of bits in the mantissa determines the number of accurate decimals. In this case, that leads to $\\log_{10}(2) \\cdot 52 \\approx 16$ accurate decimals in base 10. At the same time, the exponent in combination with its bias determines the magnitude of the largest and smallest numbers that can be represented.\n",
    "\n",
    "**Exercise 2**\n",
    "\n",
    "The IEEE-754 standard also includes a [single-precision](https://en.wikipedia.org/wiki/Single-precision_floating-point_format) floating point number of 4 bytes, including 1 sign bit, 8 exponent bits with exponent bias -127, and 23 mantissa bits. Determine the bit-representation of the single-precision number `3.0`. How many correct decimals does this representation approximately have? Hint: first have a look at the double-precision representation, and adapt this form."
   ]
  },
  {
   "cell_type": "code",
   "execution_count": null,
   "metadata": {},
   "outputs": [],
   "source": []
  },
  {
   "cell_type": "markdown",
   "metadata": {},
   "source": [
    "Now that we have some idea how numbers are represented in a computer, we continue with the main topic of this lesson: numerical differentiation.\n",
    "\n",
    "### Difference Approximations\n",
    "\n",
    "Any function $f$ that is sufficiently well-behaved (i.e. smooth, continuous, differentiable functions) can be approximated locally by means of a polynomial expansion. That is to say, if at some value $x$ the function has a value $y = f(x)$, then for small values of a variable $h$ the function value $f(x+h)$ can be estimated by a polynomial. When using a 0-th order polynomial (i.e. a constant function), then we arrive at $f(x+h) \\approx y$. Therefore, the value of the function at $x+h$ is close to the value of the function at $x$. However, we can do better. When using a 1-st order polynomial (i.e. a linear function) we arrive at $f(x+h) = a + b h$. It turns out that the slope $b$ precisely equals the derivative of the function at $x$. Thus, we obtain\n",
    "\n",
    "$$\n",
    "f(x+h) = f(x) + f'(x) \\cdot h\n",
    "$$\n",
    "\n",
    "We can use the above 1-st order [Taylor series](https://en.wikipedia.org/wiki/Taylor_series) to derive an expression for the derivative $f'(x)$.\n",
    "\n",
    "$$\n",
    "f'(x) = \\frac{f(x+h) - f(x)}{h}\n",
    "$$\n",
    "\n",
    "This is called the *forward difference approximation*.\n",
    "\n",
    "Alternatively, we could have used a negative value for $h$, leading to $f(x-h) = f(x) - f'(x) \\cdot h$ and the *backward difference approximation*\n",
    "\n",
    "$$\n",
    "f'(x) = \\frac{f(x) - f(x-h)}{h}\n",
    "$$\n",
    "\n",
    "Both approximations can also be combined to obtain\n",
    "\n",
    "$$\n",
    "f'(x) = \\frac{f(x+h) - f(x-h)}{2h}\n",
    "$$\n",
    "\n",
    "This is called the *central difference approximation*.\n",
    "\n",
    "**Exercise 3**\n",
    "\n",
    "Complete the below functions `forward_derivative()`, `backward_derivative()` and `central_derivative()` that calculate the derivative of a provided function `f` at an argument `x` using the forward, backward, and central difference approximations. Replace the default value of the optional parameter `h` with a suitable value."
   ]
  },
  {
   "cell_type": "code",
   "execution_count": 11,
   "metadata": {},
   "outputs": [],
   "source": [
    "def forward_derivative(f, x, h=1e-10):\n",
    "    \"\"\"df = forward_derivative(f, x, h).\n",
    "    Calculates the forward difference approximation of the\n",
    "    function f(x).\n",
    "    \"\"\"\n",
    "    df = (f(x+h) - f(x)) / h\n",
    "    return df\n",
    "\n",
    "def backward_derivative(f, x, h=1e-10):\n",
    "    \"\"\"df = forward_derivative(f, x, h).\n",
    "    Calculates the backward difference approximation of the\n",
    "    function f(x).\n",
    "    \"\"\"\n",
    "    df = (f(x)- f(x-h))/h\n",
    "    return df\n",
    "\n",
    "def central_derivative(f, x, h=1e-10):\n",
    "    \"\"\"df = central_derivative(f, x, h).\n",
    "    Calculates the central difference approximation of the\n",
    "    function f(x).\n",
    "    \"\"\"\n",
    "    df = (f(x+h)- f(x-h))/ (2*h)\n",
    "    return df"
   ]
  },
  {
   "cell_type": "code",
   "execution_count": 12,
   "metadata": {},
   "outputs": [
    {
     "data": {
      "text/plain": [
       "1e-100"
      ]
     },
     "execution_count": 12,
     "metadata": {},
     "output_type": "execute_result"
    }
   ],
   "source": [
    "1e-100"
   ]
  },
  {
   "cell_type": "markdown",
   "metadata": {},
   "source": [
    "Below, we apply the forward, backward, and central approximation methods to calculate the derivative of the natural logarithm at $x=2$ using various $h$. The analytical derivative equals $f'(2)=\\frac{1}{2}$. We determine the deviation of the numerical outcome from this exact answer for different choices of the parameter $h$."
   ]
  },
  {
   "cell_type": "code",
   "execution_count": 13,
   "metadata": {},
   "outputs": [
    {
     "name": "stderr",
     "output_type": "stream",
     "text": [
      "C:\\Users\\chiar\\AppData\\Local\\Temp/ipykernel_17612/1233455183.py:3: RuntimeWarning: divide by zero encountered in log\n",
      "  y = np.log(x)\n"
     ]
    },
    {
     "data": {
      "image/png": "[encoded data removed]",
      "text/plain": [
       "<Figure size 432x288 with 1 Axes>"
      ]
     },
     "metadata": {
      "needs_background": "light"
     },
     "output_type": "display_data"
    }
   ],
   "source": [
    "import matplotlib.pyplot as plt\n",
    "x = np.linspace(0., 3., 50)\n",
    "y = np.log(x)\n",
    "\n",
    "plt.plot(x,y)\n",
    "plt.plot(2, np.log(2), 'o')\n",
    "plt.grid()"
   ]
  },
  {
   "cell_type": "code",
   "execution_count": 14,
   "metadata": {},
   "outputs": [
    {
     "name": "stdout",
     "output_type": "stream",
     "text": [
      "h = 1.0e-01:\n",
      "\t* forward : 4.879016e-01 (error=-1.2e-02)\n",
      "\t* backward: 5.129329e-01 (error=1.3e-02)\n",
      "\t* central : 5.004173e-01 (error=4.2e-04)\n",
      "h = 1.0e-02:\n",
      "\t* forward : 4.987542e-01 (error=-1.2e-03)\n",
      "\t* backward: 5.012542e-01 (error=1.3e-03)\n",
      "\t* central : 5.000042e-01 (error=4.2e-06)\n",
      "h = 1.0e-03:\n",
      "\t* forward : 4.998750e-01 (error=-1.2e-04)\n",
      "\t* backward: 5.001250e-01 (error=1.3e-04)\n",
      "\t* central : 5.000000e-01 (error=4.2e-08)\n",
      "h = 1.0e-04:\n",
      "\t* forward : 4.999875e-01 (error=-1.2e-05)\n",
      "\t* backward: 5.000125e-01 (error=1.3e-05)\n",
      "\t* central : 5.000000e-01 (error=4.2e-10)\n",
      "h = 1.0e-05:\n",
      "\t* forward : 4.999988e-01 (error=-1.2e-06)\n",
      "\t* backward: 5.000013e-01 (error=1.3e-06)\n",
      "\t* central : 5.000000e-01 (error=8.8e-12)\n",
      "h = 1.0e-06:\n",
      "\t* forward : 4.999999e-01 (error=-1.2e-07)\n",
      "\t* backward: 5.000001e-01 (error=1.2e-07)\n",
      "\t* central : 5.000000e-01 (error=1.4e-11)\n",
      "h = 1.0e-07:\n",
      "\t* forward : 5.000000e-01 (error=-1.3e-08)\n",
      "\t* backward: 5.000000e-01 (error=1.3e-08)\n",
      "\t* central : 5.000000e-01 (error=-2.6e-10)\n",
      "h = 1.0e-08:\n",
      "\t* forward : 5.000000e-01 (error=-3.0e-09)\n",
      "\t* backward: 5.000000e-01 (error=-3.0e-09)\n",
      "\t* central : 5.000000e-01 (error=-3.0e-09)\n"
     ]
    }
   ],
   "source": [
    "# Example: derivative of ln(x) at x = 2\n",
    "from math import log\n",
    "\n",
    "hs = [1e-1, 1e-2, 1e-3, 1e-4, 1e-5, 1e-6, 1e-7, 1e-8]\n",
    "df_exact = 0.5\n",
    "\n",
    "for h in hs:\n",
    "    df_forward = forward_derivative(log, 2.0, h)\n",
    "    df_backward = backward_derivative(log, 2.0, h)\n",
    "    df_central = central_derivative(log, 2.0, h)\n",
    "    print(f'h = {h:7.1e}:')\n",
    "    print(f'\\t* forward : {df_forward:12.6e} (error={df_forward-df_exact:7.1e})')\n",
    "    print(f'\\t* backward: {df_backward:12.6e} (error={df_backward-df_exact:7.1e})')\n",
    "    print(f'\\t* central : {df_central:12.6e} (error={df_central-df_exact:7.1e})')"
   ]
  },
  {
   "cell_type": "markdown",
   "metadata": {},
   "source": [
    "Have a look at the size of the errors. Importantly, if we decrease the magnitude of $h$ by a factor $n$, then the error of the `forward_derivative` and `backward_derivative` methods also decreases by a factor $n$, but the error of the `central_derivative` method decreases by a factor $n^2$. We say that the `forward_derivative` and `backward_derivative` methods have an error of order $\\mathcal{O}(h)$, whereas the `central_derivative` method has an error of order $\\mathcal{O}(h^2)$. This is often written as\n",
    "\n",
    "$$\n",
    "\\begin{aligned}\n",
    "f'(x) &= \\frac{f(x+h) - f(x)}{h} + \\mathcal{O}(h)\n",
    "\\\\\n",
    "f'(x) &= \\frac{f(x) - f(x-h)}{h} + \\mathcal{O}(h)\n",
    "\\\\\n",
    "f'(x) &= \\frac{f(x+h) - f(x-h)}{2h} + \\mathcal{O}(h^2)\n",
    "\\end{aligned}\n",
    "$$\n",
    "\n",
    "For sufficiently small $h$, the `central_derivative` method will therefore tend to be preferable. However, keep in mind that when $h$ becomes too small, numerical round-off errors start to dominate.\n",
    "\n",
    "### Higher-order derivatives\n",
    "\n",
    "We can include higher-order terms in the polynomial approximation of the Taylor series expansion. The general form is\n",
    "\n",
    "$$\n",
    "f(x+h) = \\sum_{n=0}^N \\frac{1}{n!} f^{(n)}(x) \\cdot h^n + \\mathcal{O}(h^{N+1})\n",
    "$$\n",
    "\n",
    "We will limit ourselves to the case $N=2$, for which we get the quadratic form\n",
    "\n",
    "$$\n",
    "f(x+h) = f(x) + f'(x) \\cdot h + \\frac{1}{2} f''(x) \\cdot h^2 + \\mathcal{O}(h^3)\n",
    "$$\n",
    "\n",
    "If we apply this to arguments $x-h$, $x$, and $x+h$, and disregard the error term, we obtain a system of three equations\n",
    "\n",
    "$$\n",
    "\\begin{aligned}\n",
    "f(x-h) &= f(x) - f'(x) \\cdot h + \\frac{1}{2} f''(x) \\cdot h^2\n",
    "\\\\\n",
    "f(x) &= f(x)\n",
    "\\\\\n",
    "f(x+h) &= f(x) + f'(x) \\cdot h + \\frac{1}{2} f''(x) \\cdot h^2\n",
    "\\end{aligned}\n",
    "$$\n",
    "\n",
    "that can be solved using linear algebra techniques to find the solution\n",
    "\n",
    "$$\n",
    "\\begin{aligned}\n",
    "f(x) &= f(x)\n",
    "\\\\\n",
    "f'(x) &= \\frac{f(x+h) - f(x-h)}{2h}\n",
    "\\\\\n",
    "f''(x) &= \\frac{f(x+h) - 2f(x) + f(x-h)}{h^2}\n",
    "\\end{aligned}\n",
    "$$\n",
    "\n",
    "We recognise the central difference approximation for $f'(x)$.\n",
    "\n",
    "**Exercise 4**\n",
    "\n",
    "Complete the below function `central_derivative2()` that computes the second derivative of a provided function `f`. Determine the order of the error in $f''(x)$ by comparing the numerical value of $f''(x)$ for $f(x)=\\ln(x)$ at $x=2$ to its exact analytical value."
   ]
  },
  {
   "cell_type": "code",
   "execution_count": 15,
   "metadata": {},
   "outputs": [],
   "source": [
    "def central_derivative2(f, x, h=1e-7):\n",
    "    \"\"\"df = central_derivative2(f, x, h).\n",
    "    Calculates the second-order derivative of the\n",
    "    function f(x).\n",
    "    \"\"\"\n",
    "    ddf = (f(x+h)-2*f(x)+f(x-h))/(h**2)\n",
    "    return ddf"
   ]
  },
  {
   "cell_type": "code",
   "execution_count": 16,
   "metadata": {},
   "outputs": [
    {
     "name": "stdout",
     "output_type": "stream",
     "text": [
      "h = 1.0e-01:\n",
      "\t* central : -2.503130e-01 (error=-3.1e-04)\n",
      "h = 1.0e-02:\n",
      "\t* central : -2.500031e-01 (error=-3.1e-06)\n",
      "h = 1.0e-03:\n",
      "\t* central : -2.500000e-01 (error=-3.1e-08)\n",
      "h = 1.0e-04:\n",
      "\t* central : -2.500000e-01 (error=1.3e-08)\n",
      "h = 1.0e-05:\n",
      "\t* central : -2.499989e-01 (error=1.1e-06)\n",
      "h = 1.0e-06:\n",
      "\t* central : -2.499112e-01 (error=8.9e-05)\n",
      "h = 1.0e-07:\n",
      "\t* central : -2.553513e-01 (error=-5.4e-03)\n",
      "h = 1.0e-08:\n",
      "\t* central : 0.000000e+00 (error=2.5e-01)\n"
     ]
    }
   ],
   "source": [
    "# Example: second derivative of ln(x) at x = 2\n",
    "ddf_exact = -0.25\n",
    "\n",
    "for h in hs:\n",
    "    ddf_central = central_derivative2(log, 2.0, h)\n",
    "    print(f'h = {h:7.1e}:')\n",
    "    print(f'\\t* central : {ddf_central:12.6e} (error={ddf_central-ddf_exact:7.1e})')"
   ]
  },
  {
   "cell_type": "markdown",
   "metadata": {},
   "source": [
    "### Exercises\n",
    "\n",
    "**Exercise 5**\n",
    "\n",
    "Determine the bit-representations of `0.1 + 0.2 + 0.3` and `0.6` and confirm that these are not identical. Are `1.0 + 2.0 + 3.0` and `6.0` different as well? Explain your observations."
   ]
  },
  {
   "cell_type": "code",
   "execution_count": 17,
   "metadata": {},
   "outputs": [
    {
     "name": "stdout",
     "output_type": "stream",
     "text": [
      "0011111111100011001100110011001100110011001100110011001100110100\n",
      "0011111111100011001100110011001100110011001100110011001100110011\n",
      "0100000000011000000000000000000000000000000000000000000000000000\n",
      "0100000000011000000000000000000000000000000000000000000000000000\n"
     ]
    }
   ],
   "source": [
    "x = (0.1 + 0.2 + 0.3) \n",
    "x == 0.6\n",
    "\n",
    "# join: list elements\n",
    "# replace: get rid of the trailing binary encoding '0b'\n",
    "# rjust: fill up to 8 positions with 0s\n",
    "# struct.pack python library, !: big endian d: double precision float unpack bytewise\n",
    "bits = ''.join(bin(byte).replace('0b', '').rjust(8, '0') for byte in struct.pack('!d', x))\n",
    "bits1 = ''.join(bin(byte).replace('0b', '').rjust(8, '0') for byte in struct.pack('!d', 0.6))\n",
    "print(bits)\n",
    "print(bits1)\n",
    "\n",
    "# no absolute accuracy can be achieved\n",
    "\n",
    "y = 1.0 + 2.0 +3.0\n",
    "bits = ''.join(bin(byte).replace('0b', '').rjust(8, '0') for byte in struct.pack('!d', y))\n",
    "bits1 = ''.join(bin(byte).replace('0b', '').rjust(8, '0') for byte in struct.pack('!d', 6.0))\n",
    "print(bits)\n",
    "print(bits1)\n",
    "\n",
    "# absolute accuracy can be obtained"
   ]
  },
  {
   "cell_type": "code",
   "execution_count": 18,
   "metadata": {},
   "outputs": [
    {
     "name": "stdout",
     "output_type": "stream",
     "text": [
      "0.1 + 0.2 + 0.3 = 0x1.3333333333334p-1 , 0.6 = 0x1.3333333333333p-1\n",
      "1.0 + 2.0 + 3.0 = 0x1.8000000000000p+2 , 6.0 = 0x1.8000000000000p+2\n"
     ]
    }
   ],
   "source": [
    "x = 0.1+0.2 +0.3\n",
    "y = 0.6\n",
    "1.0+2.0+3.0 == 6.0\n",
    "print(\"0.1 + 0.2 + 0.3 = {} , 0.6 = {}\".format(x.hex(),y.hex()))\n",
    "x = 1.0 + 2.0 + 3.0\n",
    "y = 6.0\n",
    "print(\"1.0 + 2.0 + 3.0 = {} , 6.0 = {}\".format(x.hex(),y.hex()))"
   ]
  },
  {
   "cell_type": "markdown",
   "metadata": {},
   "source": [
    "**Exercise 6**\n",
    "\n",
    "Compute the first- and second-order derivatives of the exponential function $g(x) = 2^x$ at $x = 0$ using the following three methods:\n",
    "\n",
    "* analytically, using symbolic differentiation;\n",
    "\n",
    "* using your own functions `central_derivative()` and `central_derivative2()`;\n",
    "\n",
    "* using the function `derivative` of the module `scipy.misc` (see the [documentation](https://docs.scipy.org/doc/scipy/reference/generated/scipy.misc.derivative.html))."
   ]
  },
  {
   "cell_type": "code",
   "execution_count": 19,
   "metadata": {},
   "outputs": [
    {
     "name": "stdout",
     "output_type": "stream",
     "text": [
      "ananlytical solution first derivative: 0.6931471805599453\n",
      "my solution first derivative: 0.6931471805415867\n",
      "scipy misc solution first derivative: 0.6931471805415867\n",
      "ananlytical solution second derivative: 0.4804530139182014\n",
      "my solution second derivative: 0.48050452505776775\n",
      "scipy misc solution first derivative: 0.48050452505776775\n"
     ]
    },
    {
     "data": {
      "image/png": "[encoded data removed]",
      "text/plain": [
       "<Figure size 432x288 with 1 Axes>"
      ]
     },
     "metadata": {
      "needs_background": "light"
     },
     "output_type": "display_data"
    }
   ],
   "source": [
    "#def my_func(a, x):\n",
    "#    return a ** x\n",
    "\n",
    "def my_func(x):\n",
    "    return 2 ** x\n",
    "vals = np.linspace(- 2., 3., 100)\n",
    "plt.plot(vals, my_func(vals))\n",
    "\n",
    "# analytical solution\n",
    "print('ananlytical solution first derivative:', 2 ** 0.0 * log(2))\n",
    "\n",
    "df_central = central_derivative(my_func, 0.0, h = 1e-6)\n",
    "print('my solution first derivative:', df_central)\n",
    "\n",
    "# scipy solution\n",
    "from scipy.misc import derivative\n",
    "print('scipy misc solution first derivative:', derivative(my_func, 0.0, dx = 1e-6))\n",
    "\n",
    "# analytical solution\n",
    "print('ananlytical solution second derivative:', 2 ** 0.0 * (log(2))**2)\n",
    "\n",
    "df_central2 = central_derivative2(my_func, 0.0, h = 1e-6)\n",
    "print('my solution second derivative:', df_central2)\n",
    "\n",
    "# scipy solution\n",
    "print('scipy misc solution first derivative:', derivative(my_func, 0.0, n = 2, dx = 1e-6))"
   ]
  },
  {
   "cell_type": "markdown",
   "metadata": {},
   "source": [
    "**Exercise 7**\n",
    "\n",
    "Compute the derivative of the cosine- and sine-functions at $x = \\pi$ using the forward, backward, and central difference approximations. Also, investigate the order of the errors; explain any deviations that you observe in behaviour of the error compared to those in previous examples."
   ]
  },
  {
   "cell_type": "code",
   "execution_count": 20,
   "metadata": {},
   "outputs": [
    {
     "name": "stdout",
     "output_type": "stream",
     "text": [
      "0.0\n",
      "5.000444502911705e-07\n",
      "-5.000444502911705e-07\n",
      "-1.0000000001396114\n",
      "-1.0000000001396114\n",
      "-1.0000000001396114\n"
     ]
    }
   ],
   "source": [
    "# minimal slope\n",
    "print(central_derivative(np.cos, np.pi, h = 1e-6))\n",
    "print(forward_derivative(np.cos, np.pi, h = 1e-6))\n",
    "print(backward_derivative(np.cos, np.pi, h = 1e-6))\n",
    "## the central derivative is quite accurate, due to the symmetry of the cosine\n",
    "## the forward and backward find the same value with different sign, as well due to the periodcity. If you look forward the cos\n",
    "## is increasing if, you look backwards it is decreasing towards the minimum value at pi.\n",
    "\n",
    "# maximal slope\n",
    "print(central_derivative(np.sin, np.pi, h = 1e-6))\n",
    "print(forward_derivative(np.sin, np.pi, h = 1e-6))\n",
    "print(backward_derivative(np.sin, np.pi, h = 1e-6))\n",
    "## the same result is achieved, because for the maximal slop it does not really matter where around the point we look at. The\n",
    "## error behaves similarly."
   ]
  },
  {
   "cell_type": "markdown",
   "metadata": {},
   "source": [
    "**Exercise 8**\n",
    "\n",
    "The exponential function $f(x) = e^x = \\text{exp}(x)$ can be written as a sum\n",
    "\n",
    "$$\n",
    "e^x = a_0 + a_1 x + a_2 x^2 + a_3 x^3 + a_4 x^4 + \\ldots\n",
    "$$\n",
    "\n",
    "At the same time, the rational function $g(x) = \\frac{1}{1-x}$ can be written as a sum\n",
    "\n",
    "$$\n",
    "\\frac{1}{1-x} = b_0 + b_1 x + b_2 x^2 + b_3 x^3 + b_4 x^4 + \\ldots\n",
    "$$\n",
    "\n",
    "Find the values of the coefficients $a_0, a_1, \\ldots, a_4$ and $b_0, b_1, \\ldots, b_4$ by calculating the $n$-th derivatives $f^{(n)}(x)$ and $g^{(n)}(x)$ and inserting these in the Taylor series expansion. Can you discern a pattern in the values of these coefficients?\n",
    "\n",
    "Next, plot the function $f(x)$ along with the Taylor approximations $a_0 + \\ldots + a_k x^k$ for several increasing values of $k$. Do the same for $g(x)$ in a separate plot. Do the approximations converge towards the original functions everywhere?"
   ]
  },
  {
   "cell_type": "code",
   "execution_count": 21,
   "metadata": {},
   "outputs": [
    {
     "data": {
      "image/png": "[encoded data removed]",
      "text/plain": [
       "<Figure size 432x288 with 1 Axes>"
      ]
     },
     "metadata": {
      "needs_background": "light"
     },
     "output_type": "display_data"
    }
   ],
   "source": [
    "# input: function e^x, number of coeffiecients (= order of taylor polynom, how often we need to form derivative), start/center of taylor series\n",
    "from scipy.misc import derivative\n",
    "import numpy as np\n",
    "import math\n",
    "\n",
    "# define the two functions\n",
    "def my_e(x):\n",
    "    return np.e ** x\n",
    "\n",
    "def my_ratio(x):\n",
    "    return x / (1 - x)\n",
    "\n",
    "# get taylor approximation\n",
    "def taylor_approx(func, start, order_d, dx, x):\n",
    "    \n",
    "    # get derivative\n",
    "    order_points = 0 # derivative scipy parameter\n",
    "    if order_d % 2 == 0:\n",
    "        order_points = order_d + 3\n",
    "    else:\n",
    "        order_points = order_d + 2\n",
    "    \n",
    "    # make container for the coefficients\n",
    "    coef = []\n",
    "    \n",
    "    # derivative and evluation of it at the start value\n",
    "    for i in range(0, order_d + 1):\n",
    "        coef.append(derivative(func, x0 = start, dx = dx, n = i, order = order_points))\n",
    "    #print(coef)\n",
    "    \n",
    "    # form taylor polynom\n",
    "    y = []\n",
    "    for xi in x:\n",
    "        y.append(sum([(1/math.factorial(i)) * coef[i] * (xi - start) ** i for i in range(0, len(coef))])) # here (xi - start)\n",
    "    return y\n",
    "\n",
    "# make new x values\n",
    "x = np.linspace(0., 3., 41)\n",
    "\n",
    "# caluclate the y values with several different number of derivatives involved:\n",
    "# k = 5\n",
    "yi = taylor_approx(my_e, 0, 5, np.pi/30, x)\n",
    "\n",
    "# k = 7\n",
    "y7 = taylor_approx(my_e, 0, 7, np.pi/30, x)\n",
    "# k = 10\n",
    "y10 = taylor_approx(my_e, 0, 10, np.pi/30, x)\n",
    "\n",
    "\n",
    "plt.plot(x, np.e **x, 'k', label = 'original')\n",
    "plt.plot(x, yi, ':b', label = 'k = 5')\n",
    "plt.plot(x, y7, ':r', label = 'k = 7')\n",
    "plt.plot(x, y10, ':g', label = 'k = 10')\n",
    "plt.legend()\n",
    "plt.show()"
   ]
  },
  {
   "cell_type": "code",
   "execution_count": 63,
   "metadata": {},
   "outputs": [
    {
     "data": {
      "image/png": "[encoded data removed]",
      "text/plain": [
       "<Figure size 432x288 with 1 Axes>"
      ]
     },
     "metadata": {
      "needs_background": "light"
     },
     "output_type": "display_data"
    }
   ],
   "source": [
    "# input: function e^x, number of coeffiecients (= order of taylor polynom, how often we need to form derivative), start/center of taylor series\n",
    "from scipy.misc import derivative\n",
    "import numpy as np\n",
    "import math\n",
    "\n",
    "# define the two functions\n",
    "def my_e(x):\n",
    "    return np.e ** x\n",
    "\n",
    "def my_ratio(x):\n",
    "    return 1 / (1 - x)\n",
    "\n",
    "# get taylor approximation\n",
    "def taylor_approx(func, start, order_d, dx, x):\n",
    "    \n",
    "    # get derivative\n",
    "    order_points = 0 # derivative scipy parameter\n",
    "    if order_d % 2 == 0:\n",
    "        order_points = order_d + 3\n",
    "    else:\n",
    "        order_points = order_d + 2\n",
    "    \n",
    "    # make container for the coefficients\n",
    "    coef = []\n",
    "    b=[]\n",
    "    # derivative and evluation of it at the start value\n",
    "    for i in range(0, order_d + 1):\n",
    "        coef.append(derivative(func, x0 = start, dx = dx, n = i, order = 2*i+1)) # order points is fixed for running one definite talor series\n",
    "        b.append(order_points)\n",
    "    #print(coef)\n",
    "    \n",
    "    # form taylor polynom\n",
    "    y = []\n",
    "    for xi in x:\n",
    "        y.append(sum([(1/math.factorial(i)) * coef[i] * (xi) ** i for i in range(0, len(coef))]))\n",
    "    return y\n",
    "\n",
    "# make new x values\n",
    "x = np.linspace(0., 3., 41)\n",
    "\n",
    "# caluclate the y values with several different number of derivatives involved:\n",
    "y1 = taylor_approx(my_e, 0, 1, np.pi/30, x)\n",
    "# k = 5\n",
    "yi = taylor_approx(my_e, 0, 5, np.pi/30, x)\n",
    "\n",
    "# k = 7\n",
    "y7 = taylor_approx(my_e, 0, 7, np.pi/30, x)\n",
    "# k = 10\n",
    "y10 = taylor_approx(my_e, 0, 10, np.pi/30, x)\n",
    "\n",
    "\n",
    "plt.plot(x, np.e **x, 'k', label = 'original')\n",
    "plt.plot(x, y1, ':k', label = 'k = 1')\n",
    "plt.plot(x, yi, ':b', label = 'k = 5')\n",
    "plt.plot(x, y7, ':r', label = 'k = 7')\n",
    "plt.plot(x, y10, ':g', label = 'k = 10')\n",
    "plt.legend()\n",
    "plt.show()"
   ]
  },
  {
   "cell_type": "code",
   "execution_count": 62,
   "metadata": {},
   "outputs": [
    {
     "name": "stdout",
     "output_type": "stream",
     "text": [
      "[1.0, 1.0001096742982576, 1.9999999037375733, 5.999996459292446, 23.999999911022897, 120.00000289375454]\n",
      "[1.0, 1.0001096742982576, 1.9999999037375733, 5.999996459292446, 23.999999911022897, 120.00000289375454, 719.9922802493071, 5040.292676669462]\n",
      "[1.0000000100000002, 1.0101010305070912, 1.9991583090984528, 5.966256203459473, 24.02690023001703, 121.63762905525033, 714.0408861576703, 4380.718498232098, 50635.450032254405, 4017163.0225980924, 2039837487459385.2]\n"
     ]
    },
    {
     "data": {
      "image/png": "[encoded data removed]",
      "text/plain": [
       "<Figure size 432x288 with 1 Axes>"
      ]
     },
     "metadata": {
      "needs_background": "light"
     },
     "output_type": "display_data"
    }
   ],
   "source": [
    "# make new x values\n",
    "x = np.linspace(-20., 20., 202)\n",
    "# caluclate the y values with several different number of derivatives involved:\n",
    "# k = 5\n",
    "yi = taylor_approx(my_ratio, 0, 5, np.pi/300, x)\n",
    "\n",
    "# k = 7\n",
    "y7 = taylor_approx(my_ratio, 0, 7, np.pi/300, x)\n",
    "# k = 10\n",
    "y10 = taylor_approx(my_ratio, 1e-8, 10, 1e-1, x)\n",
    "\n",
    "plt.plot(x, my_ratio(x), ':k', label = 'original')\n",
    "plt.plot(x, yi, ':b', label = 'k = 5')\n",
    "plt.plot(x, y7, ':r', label = 'k = 7')\n",
    "plt.plot(x, y10, ':g', label = 'k = 10')\n",
    "plt.legend()\n",
    "plt.ylim(-10., 10.)\n",
    "plt.show()"
   ]
  },
  {
   "cell_type": "code",
   "execution_count": 31,
   "metadata": {},
   "outputs": [
    {
     "data": {
      "image/png": "[encoded data removed]",
      "text/plain": [
       "<Figure size 432x288 with 1 Axes>"
      ]
     },
     "metadata": {
      "needs_background": "light"
     },
     "output_type": "display_data"
    },
    {
     "name": "stdout",
     "output_type": "stream",
     "text": [
      "[1, 3, 5, 7, 9, 11, 13, 15]\n"
     ]
    }
   ],
   "source": [
    "import matplotlib.pyplot as plt\n",
    "from math import factorial\n",
    "import numpy as np\n",
    "from scipy.misc import derivative\n",
    "\n",
    "f = lambda x: np.exp(x)\n",
    "fac = lambda x:factorial(x)\n",
    "a = [];b=[]\n",
    "x = np.linspace(-2,+2,101)\n",
    "plt.plot(x,f(x),\"--\",label=\"f(x)\")\n",
    "k = 8\n",
    "for i in range(k):\n",
    "    b.append(2*i+1)\n",
    "    a.append(derivative(f,0,n=i,dx=1e-2,order = 2*i+1)/fac(i))\n",
    "    t = lambda x: sum(a[j]*x**j for j in range(len(a)))\n",
    "    plt.plot(x,t(x),label = \"K = {}\".format(i))\n",
    "plt.axhline(0.0,color=\"black\")\n",
    "plt.axvline(0.0,color=\"black\")\n",
    "plt.ylim(-1,7);plt.xlim(-2,2)\n",
    "plt.legend()    \n",
    "plt.show()\n",
    "print(b)\n"
   ]
  },
  {
   "cell_type": "code",
   "execution_count": 37,
   "metadata": {},
   "outputs": [
    {
     "data": {
      "image/png": "[encoded data removed]",
      "text/plain": [
       "<Figure size 432x288 with 1 Axes>"
      ]
     },
     "metadata": {
      "needs_background": "light"
     },
     "output_type": "display_data"
    },
    {
     "name": "stdout",
     "output_type": "stream",
     "text": [
      "[1.0, 1.0101010101010104, 1.9991582491582252, 5.9662559662558, 24.026899026887698, 121.63762163781561, 714.0408367892721]\n"
     ]
    }
   ],
   "source": [
    "f = lambda x: 1/(1-x)\n",
    "fac = lambda x:factorial(x)\n",
    "a = []\n",
    "b=[]\n",
    "x = np.linspace(-2,2,100)\n",
    "plt.plot(x,f(x),label=\"f(x)\")\n",
    "k = 7\n",
    "for i in range(k):\n",
    "    b.append(derivative(f,0,n=i,dx=1e-1,order = 2*i+1))\n",
    "    a.append(derivative(f,0,n=i,dx=1e-1,order = 2*i+1)/fac(i))\n",
    "    t = lambda x: sum(a[j]*x**j for j in range(len(a)))\n",
    "    plt.plot(x,t(x),label = \"K = {}\".format(i))\n",
    "plt.axhline(0.0,color=\"black\")\n",
    "plt.axvline(0.0,color=\"black\")\n",
    "plt.ylim(-3,3);plt.xlim(-2,2)\n",
    "plt.legend(loc=\"lower center\") \n",
    "plt.show()\n",
    "print(b)"
   ]
  },
  {
   "cell_type": "markdown",
   "metadata": {},
   "source": [
    "***"
   ]
  }
 ],
 "metadata": {
  "kernelspec": {
   "display_name": "Python 3 (ipykernel)",
   "language": "python",
   "name": "python3"
  },
  "language_info": {
   "codemirror_mode": {
    "name": "ipython",
    "version": 3
   },
   "file_extension": ".py",
   "mimetype": "text/x-python",
   "name": "python",
   "nbconvert_exporter": "python",
   "pygments_lexer": "ipython3",
   "version": "3.9.6"
  }
 },
 "nbformat": 4,
 "nbformat_minor": 2
}
